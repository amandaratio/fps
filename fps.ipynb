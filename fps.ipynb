{
  "cells": [
    {
      "cell_type": "code",
      "execution_count": null,
      "metadata": {
        "id": "2eetCYBJFpnL"
      },
      "outputs": [],
      "source": [
        "import cv2\n",
        "import os\n",
        "import shutil"
      ]
    },
    {
      "cell_type": "code",
      "execution_count": null,
      "metadata": {},
      "outputs": [],
      "source": [
        "# Author: Amanda Horacio"
      ]
    },
    {
      "cell_type": "code",
      "execution_count": null,
      "metadata": {
        "id": "fnhgxz3xF4dG"
      },
      "outputs": [],
      "source": [
        "def new_folder(dir):\n",
        "  if os.path.exists(dir):\n",
        "    shutil.rmtree(dir)\n",
        "  os.mkdir(dir)\n",
        "\n",
        "def name(x):\n",
        "  return 'vf_frames/vf_set_{}'.format(str(x))"
      ]
    },
    {
      "cell_type": "code",
      "execution_count": null,
      "metadata": {
        "id": "K7YuA-15F7Kj"
      },
      "outputs": [],
      "source": [
        "def split_fps(clip, fps=15, fpf=15, update_res=False, res_x=720, res_y=1280):\n",
        "  \"\"\"Break video down in frames\n",
        "\n",
        "    @param: clip The file name of the video\n",
        "    @param: fps The number of frames per second (default 15.0)\n",
        "    @param: fpf The number of frames per folder (default 15.0)\n",
        "    @param: updates_res, Option to update resolution of video (default False)\n",
        "    @param: res_x, The updated resolution width value (default 720.0)\n",
        "    @param: res_y, The updated resolution height value (default 1280.0)\n",
        "\n",
        "  \"\"\"\n",
        "\n",
        "  assert(fps > 0)\n",
        "  assert(fps < 30)\n",
        "  assert(fpf * 2 < 124)\n",
        "  \n",
        "  vf = cv2.VideoCapture(clip)\n",
        "  frames = []\n",
        "  \n",
        "  while(vf.isOpened()):\n",
        "    ret, frame = vf.read()\n",
        "    if ret == False:\n",
        "        break\n",
        "    if update_res: \n",
        "      frame = cv2.resize(frame,(res_x,res_y),fx=0,fy=0, interpolation = cv2.INTER_CUBIC)\n",
        "    frames.append(frame)\n",
        "  \n",
        "  frames_fps = vf.get(cv2.CAP_PROP_FPS)\n",
        "  step = round(frames_fps / fps)\n",
        "  \n",
        "  num_frames, split = 1, 1\n",
        "  path = name(split)\n",
        "  new_folder(path)\n",
        "  \n",
        "  for f in range(0, len(frames), step):\n",
        "    if (num_frames > fpf):\n",
        "      num_frames, split = 1, split + 1\n",
        "      path = name(split)\n",
        "      new_folder(path)\n",
        "    dir = '{}/{}.jpg'.format(path, str(f))\n",
        "    cv2.imwrite(dir, frames[f])\n",
        "    num_frames += 1"
      ]
    },
    {
      "cell_type": "code",
      "execution_count": null,
      "metadata": {
        "id": "xR_qcLa7Fy-J"
      },
      "outputs": [],
      "source": [
        "!mkdir vf_frames"
      ]
    },
    {
      "cell_type": "code",
      "execution_count": null,
      "metadata": {
        "id": "jt1FY5G8N1by"
      },
      "outputs": [],
      "source": [
        "# upload reference video into directory (folder icon) on the left\n",
        "video_ref = 'IMG_0393.MOV'"
      ]
    },
    {
      "cell_type": "code",
      "execution_count": null,
      "metadata": {
        "id": "z-TdAzrkNFST"
      },
      "outputs": [],
      "source": [
        "split_fps(video_ref)"
      ]
    },
    {
      "cell_type": "code",
      "execution_count": null,
      "metadata": {
        "id": "IdvdlWl9F7_S"
      },
      "outputs": [],
      "source": [
        "# SKIP TO NEXT BLOCK IF YOU WANT TO DOWNLOAD DATA\n",
        "## THIS BLOCK DELETES GENERATED VIDEO FRAMES IF YOU WANT TO RERUN ALGORITHM W DIFFERENT PARAMETERS / REFRESH\n",
        "## EXAMPLE: split_fps(video_ref, fps=10, fpf=20, update_res=True) \n",
        "##           --> splits video into 10 frames per second, \n",
        "##           --> splits frames into folders of 20 frames (2 seconds of the video),\n",
        "##           --> updates resolution w default values \n",
        "!rm -rf vf_frames"
      ]
    },
    {
      "cell_type": "code",
      "execution_count": null,
      "metadata": {
        "id": "-Y-FMXmEVBks"
      },
      "outputs": [],
      "source": [
        "# DOWNLOAD Video Reference Frames\n",
        "from google.colab import files \n",
        "!zip -r vf_frames.zip vf_frames/\n",
        "# Creates a zip file in folder icon (left of page). Right click or click 3 dots on 'vf_frames.zip' and select download."
      ]
    },
    {
      "cell_type": "code",
      "execution_count": null,
      "metadata": {
        "id": "wjOOB5xfwDN0"
      },
      "outputs": [],
      "source": [
        "files.download('vf_frames.zip')"
      ]
    }
  ],
  "metadata": {
    "colab": {
      "collapsed_sections": [],
      "name": "fps.ipynb",
      "provenance": []
    },
    "kernelspec": {
      "display_name": "Python 3",
      "name": "python3"
    },
    "language_info": {
      "name": "python"
    }
  },
  "nbformat": 4,
  "nbformat_minor": 0
}
